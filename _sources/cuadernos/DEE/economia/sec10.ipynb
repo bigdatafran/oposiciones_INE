{
 "cells": [
  {
   "cell_type": "markdown",
   "metadata": {},
   "source": [
    "# Introducción\n",
    "\n",
    "El sistema europeo de cuentas también conocido como SEC-10, en su versión original lo <a href=\"https://www.boe.es/doue/2013/174/L00001-00727.pdf\" target=\"_blank\">  podemos encontrar en este enlace </a>."
   ]
  }
 ],
 "metadata": {
  "language_info": {
   "name": "python"
  }
 },
 "nbformat": 4,
 "nbformat_minor": 2
}
