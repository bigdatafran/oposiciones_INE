{
 "cells": [
  {
   "cell_type": "markdown",
   "id": "e8049ce5",
   "metadata": {},
   "source": [
    "# Introducción\n",
    "\n",
    "En este apartado se procede a mostrar resúmenes de los temas de economía que aparecen en la convocatoria de oposiciones para DEE del INE"
   ]
  },
  {
   "cell_type": "markdown",
   "id": "df87a6fa",
   "metadata": {},
   "source": [
    "## Tema 4. Tablas I.O.\n",
    "\n",
    "El esquema general de una tabla Input aoutput es el siguiente:\n",
    "\n",
    "![](img/TIO.PNG)"
   ]
  },
  {
   "cell_type": "markdown",
   "id": "6885d15c",
   "metadata": {},
   "source": [
    "## Tema 7. La economía\n",
    "\n",
    "* Dos grandes escuelas del pensamiento: clásica y keynesiana\n",
    "\n",
    "* La teoría económica se basa en el comportamiento de los agentes económicos\n",
    "\n",
    "* La actividad económica incluye la producción, comercialización y distribución de bienes y servicios.\n",
    "\n",
    "* Sistemas económicos:\n",
    "\n",
    "    1.- Libre mercado\n",
    "    \n",
    "    2.- Planificación\n",
    "    \n",
    "* Microeconomía : trata de las decisiones y la actividad de las familias y las empresas.\n",
    "\n",
    "* Macroeconomía: decisiones económicas de agregados territoriales, habitualmente estados o entidades de las que se disponga de suficientes datos para su análisis.\n",
    "\n",
    "* Los agentes económicos deben elegir en primera instancia entre consumo u ocio\n",
    "\n",
    "* Se supone que el único objetivo de las empresas es maximizar el beneficio.\n",
    "\n",
    "* Las tres grandes variables macroeconómicas : producción, empleo e inflación.\n",
    "\n",
    "* **Tasa de actividad**: Conjunto de personas de una economía que o está trabajando o disponible para trabajar, aunque no encuentra empleo\n",
    "\n",
    "* **Tasa de desempleo** es la ratio entre el número de desempleados y la población activa\n",
    "\n",
    "* Para medir la inflación, en España se utilizan datos de la encuesta de Presupuestos Familiares\n",
    "\n",
    "### El flujo circular de la renta\n",
    "\n",
    "![](img/FlujoCircularRenta.PNG)\n",
    "\n",
    "### Frontera de posibilidades de producción.\n",
    "\n",
    "* La Frontera de Posibilidades de Producción representa lo máximo que se puede producir de ambos bienes con los factores disponibles\n",
    "\n",
    "![](img/FronteraProduccion.PNG)\n",
    "\n",
    "* La frontera muestra también lo que la sociedad en conjunto tiene que sacrificar de un bien si quiere incrementar la producción de otro.\n",
    " \n",
    "* Conforme se utilizan cantidades superiores de un factor, la producción que se añade aumenta también, pero a tasas decrecientes. "
   ]
  },
  {
   "cell_type": "markdown",
   "id": "cc16b12b",
   "metadata": {},
   "source": [
    "## Tema 10. Modelo IS-LM\n",
    "\n",
    "Este modelo busca la relación entre los tipos de interés y la renta para que tanto el mercado de bienes como el de dinero estén en equilibrio.\n",
    "\n",
    "### Modelo IS.\n",
    "\n",
    "Busca la relación entre tipos de renta que deben darse para que el mercado de bienes esté en equilibrio. Las relaciones del mercado de bienes son:\n",
    "\n",
    "![](img/equilibrioDA.PNG)\n",
    "\n",
    "Haciendo DA=Y se tiene la relación IS\n",
    "\n",
    "![](img/RelacionIS.PNG)\n",
    "\n",
    "La dedución gráfica del modelo es la siguiente:\n",
    "\n",
    "![](img/modeloIS.PNG)\n",
    "\n",
    "Despejando i se tiene que la relación IS tiene también esta expresión matemática:\n",
    "\n",
    "$$ i=\\frac{A_{0}}{b}-\\frac{Y}{\\alpha_{0}b} $$\n",
    "\n"
   ]
  },
  {
   "cell_type": "markdown",
   "id": "800ac802",
   "metadata": {},
   "source": [
    "#### Movimientos de la curva IS\n",
    "\n",
    "* Con variaciones del componente autónomo, la curva IS se desplaza de forma paralela.\n",
    "\n",
    "* Con variaciones del multiplicador varía la pendiente de la curva.\n",
    "\n",
    "### Modelo LM.\n",
    "\n",
    "La relación LM representa las combinaciones de tipo de interés y niveles de producción para los que el mercado de dinero está en equilibrio.\n",
    "\n",
    "El tipo de interés se determina en el mercado monetario a partir del equilibrio entre la oferta real monetaria M/P y la demanda de dinero (demanda de saldos reales, Ld)\n",
    "\n",
    "Cuando **aumenta la demanda de saldos reales (aumenta la demanda de dinero)**, se produce un exceso de demanda de dinero (mercado de dinero) que genera un exceso de oferta de bonos (mercado de bonos) reduciendo el precio del bono y elevando el tipo de interés de equilibrio.\n",
    "\n",
    "Cuando **disminuye la demanda de saldos reales (disminuye la demanda de dinero)**, se produce un exceso de oferta monetaria (mercado de dinero) que genera un exceso de demanda de bonos (mercado de bonos) aumentando el precio de los bonos y educiendo el tipo de interés\n",
    "de equilibrio.\n",
    "\n",
    "La demanda de saldos reales aumenta con el nivel de  la renta real y disminuye con el tipo de interés, es decir:\n",
    "\n",
    "$$L=kY-hi\\qquad k>0\\ ,\\ h>0$$\n",
    "\n",
    "Los parámetros k y h reflejan la sensibilidad de la demanda de saldos reales al nivel de renta y tipos de interés respectivamente.\n",
    "\n",
    "El equilibrio se produce cuando:\n",
    "\n",
    "$$\\frac{M_{0}^{s}}{\\overline{p}}=k\\cdot Y-h\\cdot i$$\n",
    "\n",
    "Y despejando el tipo de interés i, obtenemos la relación LM:\n",
    "\n",
    "$$i=\\frac{k}{h}\\cdot Y-\\frac{1}{h}\\cdot\\frac{M_{0}^{s}}{\\overline{p}}$$\n",
    "\n",
    "La forma de obtención gráfica de la curva LM es la siguiente.\n",
    "\n"
   ]
  },
  {
   "cell_type": "markdown",
   "id": "7e8168e7",
   "metadata": {},
   "source": [
    "![](img/LM.PNG)\n",
    "\n",
    "Tanto el mercado de dinero como el de bienes y servicios estarán equilibrado en el punto donde se cortan las dos curvas, es decir en:\n",
    "\n",
    "$$Y_{0}=\\left(A_{0}+\\frac{b}{h}\\cdot\\frac{M_{0}^{S}}{\\overline{p}}\\right)\\cdot\\underset{\\alpha_{A}}{\\underbrace{\\frac{1}{1-c(1-t)-a+\\frac{b\\cdot k}{h}}}}$$\n",
    "\n",
    "$\\alpha_A$ se denomina multiplicador del gasto autónomo."
   ]
  },
  {
   "cell_type": "code",
   "execution_count": null,
   "id": "5d3459bc",
   "metadata": {},
   "outputs": [],
   "source": []
  },
  {
   "cell_type": "code",
   "execution_count": null,
   "id": "4f89b6d2",
   "metadata": {},
   "outputs": [],
   "source": []
  },
  {
   "cell_type": "code",
   "execution_count": null,
   "id": "10ae67ae",
   "metadata": {},
   "outputs": [],
   "source": []
  },
  {
   "cell_type": "code",
   "execution_count": null,
   "id": "04377a37",
   "metadata": {},
   "outputs": [],
   "source": []
  },
  {
   "cell_type": "code",
   "execution_count": null,
   "id": "49f29c93",
   "metadata": {},
   "outputs": [],
   "source": []
  },
  {
   "cell_type": "markdown",
   "id": "568ccd34",
   "metadata": {},
   "source": [
    "## Tema 12. Balanza de pagos"
   ]
  },
  {
   "cell_type": "code",
   "execution_count": null,
   "id": "d675d11f",
   "metadata": {},
   "outputs": [],
   "source": []
  },
  {
   "cell_type": "code",
   "execution_count": 17,
   "id": "e03f6a32",
   "metadata": {},
   "outputs": [
    {
     "data": {
      "text/html": [
       "\n",
       "        <iframe\n",
       "            width=\"100%\"\n",
       "            height=\"850\"\n",
       "            src=\"BalanzaPagos_Esquema.html\"\n",
       "            frameborder=\"0\"\n",
       "            allowfullscreen\n",
       "            \n",
       "        ></iframe>\n",
       "        "
      ],
      "text/plain": [
       "<IPython.lib.display.IFrame at 0x1f57ec2cf50>"
      ]
     },
     "execution_count": 17,
     "metadata": {},
     "output_type": "execute_result"
    }
   ],
   "source": [
    "\n",
    "\n",
    "from IPython.display import IFrame\n",
    "IFrame(src=\"BalanzaPagos_Esquema.html\", width='100%',height='850')"
   ]
  },
  {
   "cell_type": "code",
   "execution_count": null,
   "id": "c1f5e0bf",
   "metadata": {},
   "outputs": [],
   "source": []
  }
 ],
 "metadata": {
  "kernelspec": {
   "display_name": "Python 3 (ipykernel)",
   "language": "python",
   "name": "python3"
  },
  "language_info": {
   "codemirror_mode": {
    "name": "ipython",
    "version": 3
   },
   "file_extension": ".py",
   "mimetype": "text/x-python",
   "name": "python",
   "nbconvert_exporter": "python",
   "pygments_lexer": "ipython3",
   "version": "3.11.4"
  },
  "toc": {
   "base_numbering": 1,
   "nav_menu": {},
   "number_sections": true,
   "sideBar": true,
   "skip_h1_title": false,
   "title_cell": "Table of Contents",
   "title_sidebar": "Contents",
   "toc_cell": false,
   "toc_position": {
    "height": "calc(100% - 180px)",
    "left": "10px",
    "top": "150px",
    "width": "165px"
   },
   "toc_section_display": true,
   "toc_window_display": true
  },
  "varInspector": {
   "cols": {
    "lenName": 16,
    "lenType": 16,
    "lenVar": 40
   },
   "kernels_config": {
    "python": {
     "delete_cmd_postfix": "",
     "delete_cmd_prefix": "del ",
     "library": "var_list.py",
     "varRefreshCmd": "print(var_dic_list())"
    },
    "r": {
     "delete_cmd_postfix": ") ",
     "delete_cmd_prefix": "rm(",
     "library": "var_list.r",
     "varRefreshCmd": "cat(var_dic_list()) "
    }
   },
   "types_to_exclude": [
    "module",
    "function",
    "builtin_function_or_method",
    "instance",
    "_Feature"
   ],
   "window_display": false
  }
 },
 "nbformat": 4,
 "nbformat_minor": 5
}
