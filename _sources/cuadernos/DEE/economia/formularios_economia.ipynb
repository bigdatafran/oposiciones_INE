{
 "cells": [
  {
   "cell_type": "markdown",
   "id": "fd675953",
   "metadata": {},
   "source": [
    "# Introducción\n",
    "\n",
    "En este apartado se procede a mostrar resúmenes de los temas de economía que aparecen en la convocatoria de oposiciones para DEE del INE"
   ]
  },
  {
   "cell_type": "markdown",
   "id": "cc16b12b",
   "metadata": {},
   "source": [
    "## Tema 10. Modelo IS-LM\n",
    "\n",
    "Este modelo busca la relación entre los tipos de interés y la renta para que tanto el mercado de bienes como el de dinero estén en equilibrio.\n",
    "\n",
    "### Modelo IS.\n",
    "\n",
    "Busca la relación entre tipos de renta que deben darse para que el mercado de bienes esté en equilibrio. Las relaciones del mercado de bienes son:\n",
    "\n",
    "![](img/equilibrioDA.PNG)\n",
    "\n",
    "Haciendo DA=Y se tiene la relación IS\n",
    "\n",
    "![](img/RelacionIS.PNG)\n",
    "\n",
    "La dedución gráfica del modelo es la siguiente:\n",
    "\n",
    "![](img/modeloIS.PNG)\n",
    "\n",
    "Despejando i se tiene que la relación IS tiene también esta expresión matemática:\n",
    "\n",
    "$$ i=\\frac{A_{0}}{b}-\\frac{Y}{\\alpha_{0}b} $$\n",
    "\n"
   ]
  },
  {
   "cell_type": "markdown",
   "id": "800ac802",
   "metadata": {},
   "source": [
    "#### Movimientos de la curva IS\n",
    "\n",
    "* Con variaciones del componente autónomo, la curva IS se desplaza de forma paralela.\n",
    "\n",
    "* Con variaciones del multiplicador varía la pendiente de la curva.\n",
    "\n",
    "### Modelo LM.\n",
    "\n",
    "La relación LM representa las combinaciones de tipo de interés y niveles de producción para los que el mercado de dinero está en equilibrio.\n",
    "\n",
    "El tipo de interés se determina en el mercado monetario a partir del equilibrio entre la oferta real monetaria M/P y la demanda de dinero (demanda de saldos reales, Ld)\n",
    "\n",
    "Cuando **aumenta la demanda de saldos reales (aumenta la demanda de dinero)**, se produce un exceso de demanda de dinero (mercado de dinero) que genera un exceso de oferta de bonos (mercado de bonos) reduciendo el precio del bono y elevando el tipo de interés de equilibrio.\n",
    "\n",
    "Cuando **disminuye la demanda de saldos reales (disminuye la demanda de dinero)**, se produce un exceso de oferta monetaria (mercado de dinero) que genera un exceso de demanda de bonos (mercado de bonos) aumentando el precio de los bonos y educiendo el tipo de interés\n",
    "de equilibrio.\n",
    "\n",
    "La demanda de saldos reales aumenta con el nivel de  la renta real y disminuye con el tipo de interés, es decir:\n",
    "\n",
    "$$L=kY-hi\\qquad k>0\\ ,\\ h>0$$\n",
    "\n",
    "Los parámetros k y h reflejan la sensibilidad de la demanda de saldos reales al nivel de renta y tipos de interés respectivamente.\n",
    "\n",
    "El equilibrio se produce cuando:\n",
    "\n",
    "$$\\frac{M_{0}^{s}}{\\overline{p}}=k\\cdot Y-h\\cdot i$$\n",
    "\n",
    "Y despejando el tipo de interés i, obtenemos la relación LM:\n",
    "\n",
    "$$i=\\frac{k}{h}\\cdot Y-\\frac{1}{h}\\cdot\\frac{M_{0}^{s}}{\\overline{p}}$$\n",
    "\n",
    "La forma de obtención gráfica de la curva LM es la siguiente.\n",
    "\n"
   ]
  },
  {
   "cell_type": "markdown",
   "id": "7e8168e7",
   "metadata": {},
   "source": [
    "![](img/LM.PNG)"
   ]
  },
  {
   "cell_type": "code",
   "execution_count": null,
   "id": "5d3459bc",
   "metadata": {},
   "outputs": [],
   "source": []
  }
 ],
 "metadata": {
  "kernelspec": {
   "display_name": "Python 3 (ipykernel)",
   "language": "python",
   "name": "python3"
  },
  "language_info": {
   "codemirror_mode": {
    "name": "ipython",
    "version": 3
   },
   "file_extension": ".py",
   "mimetype": "text/x-python",
   "name": "python",
   "nbconvert_exporter": "python",
   "pygments_lexer": "ipython3",
   "version": "3.11.4"
  },
  "toc": {
   "base_numbering": 1,
   "nav_menu": {},
   "number_sections": true,
   "sideBar": true,
   "skip_h1_title": false,
   "title_cell": "Table of Contents",
   "title_sidebar": "Contents",
   "toc_cell": false,
   "toc_position": {},
   "toc_section_display": true,
   "toc_window_display": true
  },
  "varInspector": {
   "cols": {
    "lenName": 16,
    "lenType": 16,
    "lenVar": 40
   },
   "kernels_config": {
    "python": {
     "delete_cmd_postfix": "",
     "delete_cmd_prefix": "del ",
     "library": "var_list.py",
     "varRefreshCmd": "print(var_dic_list())"
    },
    "r": {
     "delete_cmd_postfix": ") ",
     "delete_cmd_prefix": "rm(",
     "library": "var_list.r",
     "varRefreshCmd": "cat(var_dic_list()) "
    }
   },
   "types_to_exclude": [
    "module",
    "function",
    "builtin_function_or_method",
    "instance",
    "_Feature"
   ],
   "window_display": false
  }
 },
 "nbformat": 4,
 "nbformat_minor": 5
}
